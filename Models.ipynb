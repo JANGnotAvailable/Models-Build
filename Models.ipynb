{
 "cells": [
  {
   "cell_type": "markdown",
   "metadata": {},
   "source": [
    "# **Import**"
   ]
  },
  {
   "cell_type": "code",
   "execution_count": 2,
   "metadata": {},
   "outputs": [],
   "source": [
    "import numpy as np\n",
    "import cupy as cp"
   ]
  },
  {
   "cell_type": "markdown",
   "metadata": {},
   "source": [
    "# **Tests**"
   ]
  },
  {
   "cell_type": "code",
   "execution_count": 43,
   "metadata": {},
   "outputs": [
    {
     "name": "stdout",
     "output_type": "stream",
     "text": [
      "Cupy is faster\n",
      "Average Numpy time: 0.6086715626716613\n",
      "Average Cupy time: 0.0001707148551940918\n"
     ]
    }
   ],
   "source": [
    "import time\n",
    "matrix_dim = 5000\n",
    "\n",
    "nmatrix1 = np.random.rand(matrix_dim, matrix_dim)\n",
    "nmatrix2 = np.random.rand(matrix_dim, matrix_dim)\n",
    "cmatrix1 = cp.random.rand(matrix_dim, matrix_dim)\n",
    "cmatrix2 = cp.random.rand(matrix_dim, matrix_dim)\n",
    "\n",
    "np_times = []\n",
    "cp_times = []\n",
    "\n",
    "for _ in range(100):\n",
    "    start_time = time.time()\n",
    "    np_result = np.dot(nmatrix1, nmatrix2)\n",
    "    np_times.append(time.time() - start_time)\n",
    "    start_time = time.time()\n",
    "    cp_result = cp.dot(cmatrix1, cmatrix2)\n",
    "    cp_times.append(time.time() - start_time)\n",
    "\n",
    "np_avg_time = sum(np_times) / len(np_times)\n",
    "cp_avg_time = sum(cp_times) / len(cp_times)\n",
    "\n",
    "if np_avg_time < cp_avg_time:\n",
    "    print(\"Numpy is faster\")\n",
    "else:\n",
    "    print(\"Cupy is faster\")\n",
    "\n",
    "print(f\"Average Numpy time: {np_avg_time}\")\n",
    "print(f\"Average Cupy time: {cp_avg_time}\")"
   ]
  },
  {
   "cell_type": "markdown",
   "metadata": {},
   "source": [
    "# **Initials**"
   ]
  },
  {
   "cell_type": "code",
   "execution_count": null,
   "metadata": {},
   "outputs": [],
   "source": []
  },
  {
   "cell_type": "markdown",
   "metadata": {},
   "source": [
    "# **ResNet**"
   ]
  },
  {
   "cell_type": "code",
   "execution_count": null,
   "metadata": {},
   "outputs": [],
   "source": []
  }
 ],
 "metadata": {
  "kernelspec": {
   "display_name": "Python 3",
   "language": "python",
   "name": "python3"
  },
  "language_info": {
   "codemirror_mode": {
    "name": "ipython",
    "version": 3
   },
   "file_extension": ".py",
   "mimetype": "text/x-python",
   "name": "python",
   "nbconvert_exporter": "python",
   "pygments_lexer": "ipython3",
   "version": "3.10.6"
  }
 },
 "nbformat": 4,
 "nbformat_minor": 2
}
