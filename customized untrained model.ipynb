{
 "cells": [
  {
   "cell_type": "markdown",
   "metadata": {
    "id": "Nv8KIOZxb1-h"
   },
   "source": [
    "# **imports**"
   ]
  },
  {
   "cell_type": "code",
   "execution_count": 1,
   "metadata": {
    "colab": {
     "base_uri": "https://localhost:8080/"
    },
    "id": "_h8Bt-Y-nZsx",
    "outputId": "9bcd9819-8c29-4388-ee11-c42f3103350b"
   },
   "outputs": [
    {
     "name": "stdout",
     "output_type": "stream",
     "text": [
      "Sat Oct  4 17:32:29 2025       \n",
      "+-----------------------------------------------------------------------------------------+\n",
      "| NVIDIA-SMI 566.03                 Driver Version: 566.03         CUDA Version: 12.7     |\n",
      "|-----------------------------------------+------------------------+----------------------+\n",
      "| GPU  Name                  Driver-Model | Bus-Id          Disp.A | Volatile Uncorr. ECC |\n",
      "| Fan  Temp   Perf          Pwr:Usage/Cap |           Memory-Usage | GPU-Util  Compute M. |\n",
      "|                                         |                        |               MIG M. |\n",
      "|=========================================+========================+======================|\n",
      "|   0  NVIDIA GeForce RTX 4060 Ti   WDDM  |   00000000:01:00.0  On |                  N/A |\n",
      "| 37%   45C    P0             30W /  165W |    1287MiB /  16380MiB |      3%      Default |\n",
      "|                                         |                        |                  N/A |\n",
      "+-----------------------------------------+------------------------+----------------------+\n",
      "                                                                                         \n",
      "+-----------------------------------------------------------------------------------------+\n",
      "| Processes:                                                                              |\n",
      "|  GPU   GI   CI        PID   Type   Process name                              GPU Memory |\n",
      "|        ID   ID                                                               Usage      |\n",
      "|=========================================================================================|\n",
      "|    0   N/A  N/A       492    C+G   ...cw5n1h2txyewy\\CrossDeviceResume.exe      N/A      |\n",
      "|    0   N/A  N/A      2228    C+G   ...on\\140.0.3485.81\\msedgewebview2.exe      N/A      |\n",
      "|    0   N/A  N/A      6592    C+G   ...8bbwe\\SnippingTool\\SnippingTool.exe      N/A      |\n",
      "|    0   N/A  N/A     14612    C+G   ...n\\NVIDIA app\\CEF\\NVIDIA Overlay.exe      N/A      |\n",
      "|    0   N/A  N/A     14840    C+G   ...rend Micro\\TMIDS\\tower\\PwmTower.exe      N/A      |\n",
      "|    0   N/A  N/A     15656    C+G   ...n\\NVIDIA app\\CEF\\NVIDIA Overlay.exe      N/A      |\n",
      "|    0   N/A  N/A     16268    C+G   ...\\cef\\cef.win7x64\\steamwebhelper.exe      N/A      |\n",
      "|    0   N/A  N/A     16312    C+G   ...pdnekdrzrea0\\XboxGameBarSpotify.exe      N/A      |\n",
      "|    0   N/A  N/A     17908    C+G   ...inaries\\Win64\\EpicGamesLauncher.exe      N/A      |\n",
      "|    0   N/A  N/A     19144    C+G   ...ne\\Binaries\\Win64\\EpicWebHelper.exe      N/A      |\n",
      "|    0   N/A  N/A     20876    C+G   ...x64__qmba6cd70vzyy\\ArmouryCrate.exe      N/A      |\n",
      "|    0   N/A  N/A     22344    C+G   ...3.0_x64__cv1g1gvanyjgm\\WhatsApp.exe      N/A      |\n",
      "|    0   N/A  N/A     23240    C+G   C:\\Program Files (x86)\\Steam\\steam.exe      N/A      |\n",
      "|    0   N/A  N/A     25544    C+G   ...gine\\app-4.0.563\\RazerAppEngine.exe      N/A      |\n",
      "|    0   N/A  N/A     25880    C+G   ...ces\\Razer Central\\Razer Central.exe      N/A      |\n",
      "|    0   N/A  N/A     26612    C+G   ...IDIA Broadcast\\NVIDIA Broadcast.exe      N/A      |\n",
      "|    0   N/A  N/A     27660    C+G   ...mqwq93a\\FileWatcher\\FileWatcher.exe      N/A      |\n",
      "|    0   N/A  N/A     27664    C+G   ...al\\Discord\\app-1.0.9209\\Discord.exe      N/A      |\n",
      "|    0   N/A  N/A     29556    C+G   ...s\\CurseForge Windows\\CurseForge.exe      N/A      |\n",
      "|    0   N/A  N/A     32280    C+G   ...66.0_x64__8wekyb3d8bbwe\\Copilot.exe      N/A      |\n",
      "|    0   N/A  N/A     34316    C+G   ..._x64__2p2nqsd0c76g0\\app\\ChatGPT.exe      N/A      |\n",
      "|    0   N/A  N/A     40652    C+G   ...ekyb3d8bbwe\\PhoneExperienceHost.exe      N/A      |\n",
      "|    0   N/A  N/A     46796    C+G   ...339.0_x64__dt26b99r8h8gj\\RtkUWP.exe      N/A      |\n",
      "|    0   N/A  N/A     53636    C+G   ...s\\System32\\ApplicationFrameHost.exe      N/A      |\n",
      "|    0   N/A  N/A     63744    C+G   ...siveControlPanel\\SystemSettings.exe      N/A      |\n",
      "|    0   N/A  N/A    149528    C+G   ...\\steamapps\\common\\Banana\\Banana.exe      N/A      |\n",
      "|    0   N/A  N/A    177768    C+G   ...les\\Microsoft OneDrive\\OneDrive.exe      N/A      |\n",
      "|    0   N/A  N/A    186880    C+G   C:\\Windows\\System32\\ShellHost.exe           N/A      |\n",
      "|    0   N/A  N/A    204924    C+G   ...CBS_cw5n1h2txyewy\\TextInputHost.exe      N/A      |\n",
      "|    0   N/A  N/A    219300    C+G   ...2txyewy\\StartMenuExperienceHost.exe      N/A      |\n",
      "|    0   N/A  N/A    219632    C+G   ...e4t8mqwq93a\\pdfeditor\\pdfeditor.exe      N/A      |\n",
      "|    0   N/A  N/A    226988    C+G   ...Programs\\Microsoft VS Code\\Code.exe      N/A      |\n",
      "|    0   N/A  N/A    239900    C+G   ...nt.CBS_cw5n1h2txyewy\\SearchHost.exe      N/A      |\n",
      "|    0   N/A  N/A    255404    C+G   ...oogle\\Chrome\\Application\\chrome.exe      N/A      |\n",
      "|    0   N/A  N/A    267684    C+G   ...ata\\Local\\LINE\\bin\\current\\LINE.exe      N/A      |\n",
      "|    0   N/A  N/A    269956    C+G   ...on\\140.0.3485.94\\msedgewebview2.exe      N/A      |\n",
      "|    0   N/A  N/A    285392    C+G   ...oogle\\Chrome\\Application\\chrome.exe      N/A      |\n",
      "|    0   N/A  N/A    285864    C+G   ...5n1h2txyewy\\ShellExperienceHost.exe      N/A      |\n",
      "|    0   N/A  N/A    286688    C+G   C:\\Windows\\explorer.exe                     N/A      |\n",
      "+-----------------------------------------------------------------------------------------+\n"
     ]
    }
   ],
   "source": [
    "!nvidia-smi"
   ]
  },
  {
   "cell_type": "code",
   "execution_count": 2,
   "metadata": {
    "colab": {
     "base_uri": "https://localhost:8080/"
    },
    "id": "hMPdJbddddgQ",
    "outputId": "49fcd06a-6b73-4293-d0fe-e707821009c5"
   },
   "outputs": [
    {
     "name": "stdout",
     "output_type": "stream",
     "text": [
      "Requirement already satisfied: torchmetrics in c:\\users\\user\\appdata\\local\\programs\\python\\python310\\lib\\site-packages (1.5.1)\n",
      "Requirement already satisfied: numpy<2.0,>1.20.0 in c:\\users\\user\\appdata\\local\\programs\\python\\python310\\lib\\site-packages (from torchmetrics) (1.26.4)\n",
      "Requirement already satisfied: packaging>17.1 in c:\\users\\user\\appdata\\local\\programs\\python\\python310\\lib\\site-packages (from torchmetrics) (24.1)\n",
      "Requirement already satisfied: torch>=1.10.0 in c:\\users\\user\\appdata\\local\\programs\\python\\python310\\lib\\site-packages (from torchmetrics) (2.5.1+cu124)\n",
      "Requirement already satisfied: lightning-utilities>=0.8.0 in c:\\users\\user\\appdata\\local\\programs\\python\\python310\\lib\\site-packages (from torchmetrics) (0.11.8)\n",
      "Requirement already satisfied: setuptools in c:\\users\\user\\appdata\\local\\programs\\python\\python310\\lib\\site-packages (from lightning-utilities>=0.8.0->torchmetrics) (63.2.0)\n",
      "Requirement already satisfied: typing-extensions in c:\\users\\user\\appdata\\local\\programs\\python\\python310\\lib\\site-packages (from lightning-utilities>=0.8.0->torchmetrics) (4.12.2)\n",
      "Requirement already satisfied: filelock in c:\\users\\user\\appdata\\local\\programs\\python\\python310\\lib\\site-packages (from torch>=1.10.0->torchmetrics) (3.16.1)\n",
      "Requirement already satisfied: networkx in c:\\users\\user\\appdata\\local\\programs\\python\\python310\\lib\\site-packages (from torch>=1.10.0->torchmetrics) (3.4.2)\n",
      "Requirement already satisfied: jinja2 in c:\\users\\user\\appdata\\local\\programs\\python\\python310\\lib\\site-packages (from torch>=1.10.0->torchmetrics) (3.1.4)\n",
      "Requirement already satisfied: fsspec in c:\\users\\user\\appdata\\local\\programs\\python\\python310\\lib\\site-packages (from torch>=1.10.0->torchmetrics) (2024.9.0)\n",
      "Requirement already satisfied: sympy==1.13.1 in c:\\users\\user\\appdata\\local\\programs\\python\\python310\\lib\\site-packages (from torch>=1.10.0->torchmetrics) (1.13.1)\n",
      "Requirement already satisfied: mpmath<1.4,>=1.1.0 in c:\\users\\user\\appdata\\local\\programs\\python\\python310\\lib\\site-packages (from sympy==1.13.1->torch>=1.10.0->torchmetrics) (1.3.0)\n",
      "Requirement already satisfied: MarkupSafe>=2.0 in c:\\users\\user\\appdata\\local\\programs\\python\\python310\\lib\\site-packages (from jinja2->torch>=1.10.0->torchmetrics) (2.1.5)\n",
      "Note: you may need to restart the kernel to use updated packages.\n"
     ]
    }
   ],
   "source": [
    "%pip install torchmetrics"
   ]
  },
  {
   "cell_type": "code",
   "execution_count": 3,
   "metadata": {
    "id": "6bijOKpCbxUh"
   },
   "outputs": [],
   "source": [
    "import torch\n",
    "from torch import nn\n",
    "import torch.nn.functional as F\n",
    "import torch.optim as optim\n",
    "from torch.utils.data import DataLoader, TensorDataset, random_split, Dataset\n",
    "\n",
    "import torchvision\n",
    "from torchvision import datasets\n",
    "from torchvision import transforms as T\n",
    "from torchvision.models import vit_b_16 as ViT\n",
    "from torchvision.models import resnet34 as ResNet34\n",
    "from torch.utils.data import Dataset\n",
    "from torchvision.datasets.utils import download_url\n",
    "\n",
    "import matplotlib.pyplot as plt\n",
    "from tqdm import tqdm\n",
    "from torchmetrics import Accuracy\n",
    "import os\n",
    "from PIL import Image\n",
    "\n",
    "import json"
   ]
  },
  {
   "cell_type": "markdown",
   "metadata": {
    "id": "yPE6OzYbePrm"
   },
   "source": [
    "# **dataset**"
   ]
  },
  {
   "cell_type": "code",
   "execution_count": 4,
   "metadata": {},
   "outputs": [],
   "source": [
    "def expand_if_grayscale(x):\n",
    "    # 如果只有1個channel才expand\n",
    "    if x.shape[0] == 1:\n",
    "        return x.expand(3, -1, -1)\n",
    "    return x"
   ]
  },
  {
   "cell_type": "code",
   "execution_count": 5,
   "metadata": {},
   "outputs": [],
   "source": [
    "transforms = T.Compose([\n",
    "    T.Resize((224, 224)),\n",
    "    T.ToTensor(),\n",
    "    T.Lambda(expand_if_grayscale),\n",
    "    T.Normalize([0.1307], [0.3081])\n",
    "])\n",
    "train_data = datasets.EMNIST(root='EMNIST/raw/train-images-idx3-ubyte', split='balanced', train=True, transform=transforms, download=True)\n",
    "test_data = datasets.EMNIST(root='EMNIST/raw/test-images-idx3-ubyte', split='balanced', train=False, transform=transforms, download=True)\n",
    "class_number = 47"
   ]
  },
  {
   "cell_type": "code",
   "execution_count": null,
   "metadata": {},
   "outputs": [],
   "source": [
    "transforms = T.Compose([\n",
    "    T.Resize((224, 224)),\n",
    "    T.ToTensor(),\n",
    "    T.Lambda(expand_if_grayscale),\n",
    "    T.Normalize([0.1307, 0.1307, 0.1307], [0.3081, 0.3081, 0.3081])\n",
    "])\n",
    "train_data = datasets.CIFAR100(root='CIFAR100', train=True, transform=transforms, download=True)\n",
    "test_data = datasets.CIFAR100(root='CIFAR100', train=False, transform=transforms, download=True)\n",
    "class_number = 100"
   ]
  },
  {
   "cell_type": "code",
   "execution_count": null,
   "metadata": {},
   "outputs": [],
   "source": [
    "transform = T.Compose([\n",
    "    T.Resize((224, 224)),\n",
    "    T.ToTensor(),\n",
    "    T.Normalize([0.485, 0.456, 0.406], [0.229, 0.224, 0.225])\n",
    "])\n",
    "\n",
    "with open(r\"C:\\Users\\User\\Downloads\\archive\\Labels.json\", 'r') as f:\n",
    "    idx2label = json.load(f)\n",
    "\n",
    "train_data = datasets.ImageFolder(root=r\"C:\\Users\\User\\Downloads\\archive\\train.X\", transform=transform)\n",
    "test_data = datasets.ImageFolder(root=r\"C:\\Users\\User\\Downloads\\archive\\val.X\", transform=transform)\n",
    "class_number = len(train_data.classes)"
   ]
  },
  {
   "cell_type": "code",
   "execution_count": 6,
   "metadata": {
    "id": "xYBBL3jK8hRJ"
   },
   "outputs": [
    {
     "data": {
      "text/plain": [
       "{'0': 0,\n",
       " '1': 1,\n",
       " '2': 2,\n",
       " '3': 3,\n",
       " '4': 4,\n",
       " '5': 5,\n",
       " '6': 6,\n",
       " '7': 7,\n",
       " '8': 8,\n",
       " '9': 9,\n",
       " 'A': 10,\n",
       " 'B': 11,\n",
       " 'C': 12,\n",
       " 'D': 13,\n",
       " 'E': 14,\n",
       " 'F': 15,\n",
       " 'G': 16,\n",
       " 'H': 17,\n",
       " 'I': 18,\n",
       " 'J': 19,\n",
       " 'K': 20,\n",
       " 'L': 21,\n",
       " 'M': 22,\n",
       " 'N': 23,\n",
       " 'O': 24,\n",
       " 'P': 25,\n",
       " 'Q': 26,\n",
       " 'R': 27,\n",
       " 'S': 28,\n",
       " 'T': 29,\n",
       " 'U': 30,\n",
       " 'V': 31,\n",
       " 'W': 32,\n",
       " 'X': 33,\n",
       " 'Y': 34,\n",
       " 'Z': 35,\n",
       " 'a': 36,\n",
       " 'b': 37,\n",
       " 'd': 38,\n",
       " 'e': 39,\n",
       " 'f': 40,\n",
       " 'g': 41,\n",
       " 'h': 42,\n",
       " 'n': 43,\n",
       " 'q': 44,\n",
       " 'r': 45,\n",
       " 't': 46}"
      ]
     },
     "execution_count": 6,
     "metadata": {},
     "output_type": "execute_result"
    }
   ],
   "source": [
    "train_data.class_to_idx"
   ]
  },
  {
   "cell_type": "code",
   "execution_count": 7,
   "metadata": {
    "id": "objAybhuk9Vb"
   },
   "outputs": [],
   "source": [
    "train_loader = DataLoader(train_data, batch_size=128, shuffle=True)\n",
    "test_loader = DataLoader(test_data, batch_size=128, shuffle=False)"
   ]
  },
  {
   "cell_type": "code",
   "execution_count": 8,
   "metadata": {
    "colab": {
     "base_uri": "https://localhost:8080/",
     "height": 254
    },
    "id": "8dDGDW9Y5RF4",
    "outputId": "464f7a44-5367-4fb9-d825-4e85362dde3f"
   },
   "outputs": [
    {
     "name": "stderr",
     "output_type": "stream",
     "text": [
      "Clipping input data to the valid range for imshow with RGB data ([0..1] for floats or [0..255] for integers). Got range [-0.42421296..2.8214867].\n"
     ]
    },
    {
     "data": {
      "text/plain": [
       "<matplotlib.image.AxesImage at 0x1c511bd70a0>"
      ]
     },
     "execution_count": 8,
     "metadata": {},
     "output_type": "execute_result"
    },
    {
     "data": {
      "image/png": "[encoded data removed]",
      "text/plain": [
       "<Figure size 640x480 with 1 Axes>"
      ]
     },
     "metadata": {},
     "output_type": "display_data"
    }
   ],
   "source": [
    "# 取出一個 batch，並取得第一個資料\n",
    "x, y = next(iter(train_loader))\n",
    "plt.imshow(x[0].permute(1, 2, 0))"
   ]
  },
  {
   "cell_type": "markdown",
   "metadata": {
    "id": "hQLN7-oyEOUg"
   },
   "source": [
    "# **ResNet Model**"
   ]
  },
  {
   "cell_type": "code",
   "execution_count": 9,
   "metadata": {
    "colab": {
     "base_uri": "https://localhost:8080/"
    },
    "id": "fbAonupn9Fx0",
    "outputId": "f90810f6-0109-4c69-c1bf-b809c8802de3"
   },
   "outputs": [
    {
     "data": {
      "text/plain": [
       "BasicBlock(\n",
       "  (conv1): Conv2d(256, 512, kernel_size=(3, 3), stride=(2, 2), padding=(1, 1), bias=False)\n",
       "  (bn1): BatchNorm2d(512, eps=1e-05, momentum=0.1, affine=True, track_running_stats=True)\n",
       "  (relu): ReLU(inplace=True)\n",
       "  (conv2): Conv2d(512, 512, kernel_size=(3, 3), stride=(1, 1), padding=(1, 1), bias=False)\n",
       "  (bn2): BatchNorm2d(512, eps=1e-05, momentum=0.1, affine=True, track_running_stats=True)\n",
       "  (downsample): Sequential(\n",
       "    (0): Conv2d(256, 512, kernel_size=(1, 1), stride=(2, 2), bias=False)\n",
       "    (1): BatchNorm2d(512, eps=1e-05, momentum=0.1, affine=True, track_running_stats=True)\n",
       "  )\n",
       ")"
      ]
     },
     "execution_count": 9,
     "metadata": {},
     "output_type": "execute_result"
    }
   ],
   "source": [
    "model = ResNet34(weights=None)\n",
    "model.fc = nn.Linear(512, class_number)\n",
    "model.conv1 = nn.Conv2d(3, 64, kernel_size=7, stride=2, padding=3, bias=False)\n",
    "model.layer4[0]"
   ]
  },
  {
   "cell_type": "markdown",
   "metadata": {},
   "source": [
    "# **ViT model**"
   ]
  },
  {
   "cell_type": "code",
   "execution_count": null,
   "metadata": {},
   "outputs": [],
   "source": [
    "model = ViT(weights=None)\n",
    "model.heads.head = nn.Linear(model.heads.head.in_features, class_number)"
   ]
  },
  {
   "cell_type": "markdown",
   "metadata": {},
   "source": [
    "# **Optimizer**"
   ]
  },
  {
   "cell_type": "code",
   "execution_count": 10,
   "metadata": {
    "id": "n5oxD7SrjFpx"
   },
   "outputs": [],
   "source": [
    "optimizer = torch.optim.SGD(model.parameters(), lr=0.001, momentum=0.9, nesterov=True, weight_decay=1e-4)"
   ]
  },
  {
   "cell_type": "code",
   "execution_count": 11,
   "metadata": {},
   "outputs": [],
   "source": [
    "optimizer = torch.optim.Adam(model.parameters(), lr=0.0001, weight_decay=1e-4)"
   ]
  },
  {
   "cell_type": "code",
   "execution_count": 12,
   "metadata": {},
   "outputs": [],
   "source": [
    "loss_fn = nn.CrossEntropyLoss()"
   ]
  },
  {
   "cell_type": "markdown",
   "metadata": {
    "id": "Usj-W_ukkoS3"
   },
   "source": [
    "# **Train**"
   ]
  },
  {
   "cell_type": "code",
   "execution_count": 13,
   "metadata": {
    "id": "8e5tczgLkNYj"
   },
   "outputs": [],
   "source": [
    "device = 'cuda' if torch.cuda.is_available() else 'cpu'\n",
    "model.to(device)\n",
    "\n",
    "class AverageMeter(object) :\n",
    "  def __init__(self):\n",
    "    self.reset()\n",
    "  def reset(self) :\n",
    "    self.avg = 0\n",
    "    self.val = 0\n",
    "    self.sum = 0\n",
    "    self.count = 0\n",
    "  def update (self, val, n=1) :\n",
    "    self.val = val\n",
    "    self.count += n\n",
    "    self.sum += self.val * n\n",
    "    self.avg = self.sum / self.count\n",
    "\n",
    "def train(model, train_loader, optimizer, loss_fn, epoch=None):\n",
    "  model.train()\n",
    "  trian_loss = AverageMeter()\n",
    "  train_acc = Accuracy(task='multiclass', num_classes=class_number).to(device)\n",
    "  with tqdm(train_loader, unit='batch') as tepoch :\n",
    "    for inputs, targets in tepoch:\n",
    "      if epoch is not None:\n",
    "        tepoch.set_description(f'Epoch {epoch}')\n",
    "      inputs = inputs.to(device)\n",
    "      targets = targets.to(device)\n",
    "\n",
    "      outputs = model(inputs)\n",
    "      loss = loss_fn(outputs, targets)\n",
    "      loss.backward()\n",
    "      optimizer.step()\n",
    "      optimizer.zero_grad()\n",
    "\n",
    "      trian_loss.update(loss.item())\n",
    "      train_acc(outputs.argmax(dim=1), targets)\n",
    "\n",
    "      tepoch.set_postfix(loss=trian_loss.avg,\n",
    "                         accuracy=100*train_acc.compute().item())\n",
    "    return model, trian_loss.avg, train_acc.compute()\n",
    "\n",
    "def evaluate (model, test_loader, loss_fn):\n",
    "  model.eval()\n",
    "  with torch.no_grad():\n",
    "    test_loss = AverageMeter()\n",
    "    test_acc = Accuracy(task='multiclass', num_classes=class_number).to(device)\n",
    "    for n, (inputs, targets) in enumerate(test_loader):\n",
    "      inputs =  inputs.to(device)\n",
    "      targets = targets.to(device)\n",
    "\n",
    "      outputs = model(inputs)\n",
    "      loss = loss_fn(outputs, targets)\n",
    "\n",
    "      test_loss.update(loss)\n",
    "      test_acc(outputs, targets)\n",
    "      return test_loss.avg, test_acc.compute()\n",
    "    \n",
    "\n",
    "loss_train_hist = []\n",
    "loss_valid_hist = []\n",
    "\n",
    "acc_train_hist = []\n",
    "acc_valid_hist = []"
   ]
  },
  {
   "cell_type": "code",
   "execution_count": 14,
   "metadata": {
    "colab": {
     "base_uri": "https://localhost:8080/"
    },
    "id": "BEBAJtVfkwEs",
    "outputId": "b46a8ba4-1175-4d22-8758-c5170a2a3475"
   },
   "outputs": [
    {
     "name": "stderr",
     "output_type": "stream",
     "text": [
      "Epoch 0: 100%|██████████| 882/882 [06:21<00:00,  2.31batch/s, accuracy=81.4, loss=0.604]\n"
     ]
    },
    {
     "name": "stdout",
     "output_type": "stream",
     "text": [
      "Test - Loss:0.3975251019001007 - Accuracy:0.8515625\n",
      "\n"
     ]
    },
    {
     "name": "stderr",
     "output_type": "stream",
     "text": [
      "Epoch 1: 100%|██████████| 882/882 [06:33<00:00,  2.24batch/s, accuracy=88.4, loss=0.316]\n"
     ]
    },
    {
     "name": "stdout",
     "output_type": "stream",
     "text": [
      "Test - Loss:0.41496190428733826 - Accuracy:0.84375\n",
      "\n"
     ]
    },
    {
     "name": "stderr",
     "output_type": "stream",
     "text": [
      "Epoch 2: 100%|██████████| 882/882 [06:31<00:00,  2.25batch/s, accuracy=89.3, loss=0.288]\n"
     ]
    },
    {
     "name": "stdout",
     "output_type": "stream",
     "text": [
      "Test - Loss:0.4455481767654419 - Accuracy:0.859375\n",
      "\n"
     ]
    },
    {
     "name": "stderr",
     "output_type": "stream",
     "text": [
      "Epoch 3: 100%|██████████| 882/882 [06:29<00:00,  2.26batch/s, accuracy=89.8, loss=0.272]\n"
     ]
    },
    {
     "name": "stdout",
     "output_type": "stream",
     "text": [
      "Test - Loss:0.35801494121551514 - Accuracy:0.8984375\n",
      "\n"
     ]
    },
    {
     "name": "stderr",
     "output_type": "stream",
     "text": [
      "Epoch 4: 100%|██████████| 882/882 [06:29<00:00,  2.26batch/s, accuracy=90.1, loss=0.261]\n"
     ]
    },
    {
     "name": "stdout",
     "output_type": "stream",
     "text": [
      "Test - Loss:0.3849703371524811 - Accuracy:0.875\n",
      "\n"
     ]
    },
    {
     "name": "stderr",
     "output_type": "stream",
     "text": [
      "Epoch 5: 100%|██████████| 882/882 [06:28<00:00,  2.27batch/s, accuracy=90.4, loss=0.252]\n"
     ]
    },
    {
     "name": "stdout",
     "output_type": "stream",
     "text": [
      "Test - Loss:0.3593541085720062 - Accuracy:0.875\n",
      "\n"
     ]
    },
    {
     "name": "stderr",
     "output_type": "stream",
     "text": [
      "Epoch 6: 100%|██████████| 882/882 [06:39<00:00,  2.21batch/s, accuracy=90.8, loss=0.24] \n"
     ]
    },
    {
     "name": "stdout",
     "output_type": "stream",
     "text": [
      "Test - Loss:0.3436528742313385 - Accuracy:0.890625\n",
      "\n"
     ]
    },
    {
     "name": "stderr",
     "output_type": "stream",
     "text": [
      "Epoch 7: 100%|██████████| 882/882 [06:30<00:00,  2.26batch/s, accuracy=91, loss=0.235]  \n"
     ]
    },
    {
     "name": "stdout",
     "output_type": "stream",
     "text": [
      "Test - Loss:0.40431591868400574 - Accuracy:0.875\n",
      "\n"
     ]
    },
    {
     "name": "stderr",
     "output_type": "stream",
     "text": [
      "Epoch 8: 100%|██████████| 882/882 [06:27<00:00,  2.28batch/s, accuracy=91.4, loss=0.226]\n"
     ]
    },
    {
     "name": "stdout",
     "output_type": "stream",
     "text": [
      "Test - Loss:0.3489440977573395 - Accuracy:0.90625\n",
      "\n"
     ]
    },
    {
     "name": "stderr",
     "output_type": "stream",
     "text": [
      "Epoch 9: 100%|██████████| 882/882 [06:29<00:00,  2.26batch/s, accuracy=91.5, loss=0.219]\n"
     ]
    },
    {
     "name": "stdout",
     "output_type": "stream",
     "text": [
      "Test - Loss:0.35228657722473145 - Accuracy:0.8828125\n",
      "\n"
     ]
    },
    {
     "name": "stderr",
     "output_type": "stream",
     "text": [
      "Epoch 10: 100%|██████████| 882/882 [06:23<00:00,  2.30batch/s, accuracy=91.8, loss=0.209]\n"
     ]
    },
    {
     "name": "stdout",
     "output_type": "stream",
     "text": [
      "Test - Loss:0.2861923575401306 - Accuracy:0.90625\n",
      "\n"
     ]
    },
    {
     "name": "stderr",
     "output_type": "stream",
     "text": [
      "Epoch 11: 100%|██████████| 882/882 [06:30<00:00,  2.26batch/s, accuracy=92.1, loss=0.199]\n"
     ]
    },
    {
     "name": "stdout",
     "output_type": "stream",
     "text": [
      "Test - Loss:0.23576639592647552 - Accuracy:0.9140625\n",
      "\n"
     ]
    },
    {
     "name": "stderr",
     "output_type": "stream",
     "text": [
      "Epoch 12: 100%|██████████| 882/882 [06:26<00:00,  2.28batch/s, accuracy=92.4, loss=0.19] \n"
     ]
    },
    {
     "name": "stdout",
     "output_type": "stream",
     "text": [
      "Test - Loss:0.2414294332265854 - Accuracy:0.9375\n",
      "\n"
     ]
    },
    {
     "name": "stderr",
     "output_type": "stream",
     "text": [
      "Epoch 13: 100%|██████████| 882/882 [06:27<00:00,  2.28batch/s, accuracy=93, loss=0.176]  \n"
     ]
    },
    {
     "name": "stdout",
     "output_type": "stream",
     "text": [
      "Test - Loss:0.33743974566459656 - Accuracy:0.8984375\n",
      "\n"
     ]
    },
    {
     "name": "stderr",
     "output_type": "stream",
     "text": [
      "Epoch 14: 100%|██████████| 882/882 [06:27<00:00,  2.28batch/s, accuracy=93.3, loss=0.166]\n"
     ]
    },
    {
     "name": "stdout",
     "output_type": "stream",
     "text": [
      "Test - Loss:0.3535608649253845 - Accuracy:0.875\n",
      "\n"
     ]
    }
   ],
   "source": [
    "epoch_number = 15\n",
    "\n",
    "for epoch in range(epoch_number):\n",
    "  model, train_loss, train_acc = train(model, train_loader, optimizer, loss_fn, epoch)\n",
    "\n",
    "  test_loss, test_acc = evaluate(model, test_loader, loss_fn)\n",
    "  loss_train_hist.append(train_loss)\n",
    "  loss_valid_hist.append(test_loss.to('cpu'))\n",
    "\n",
    "  acc_train_hist.append(train_acc.to('cpu'))\n",
    "  acc_valid_hist.append(test_acc.to('cpu'))\n",
    "  print(f'Test - Loss:{test_loss} - Accuracy:{test_acc}')\n",
    "  print()"
   ]
  },
  {
   "cell_type": "markdown",
   "metadata": {
    "id": "ECftNhkUmXl4"
   },
   "source": [
    "# **Plot**"
   ]
  },
  {
   "cell_type": "code",
   "execution_count": 15,
   "metadata": {
    "colab": {
     "base_uri": "https://localhost:8080/",
     "height": 296
    },
    "id": "geEu6x4TmXMv",
    "outputId": "c97455bc-62be-4881-e67a-2d4b74f138fe"
   },
   "outputs": [
    {
     "data": {
      "text/plain": [
       "<matplotlib.legend.Legend at 0x1c511cc98d0>"
      ]
     },
     "execution_count": 15,
     "metadata": {},
     "output_type": "execute_result"
    },
    {
     "data": {
      "image/png": "[encoded data removed]",
      "text/plain": [
       "<Figure size 640x480 with 1 Axes>"
      ]
     },
     "metadata": {},
     "output_type": "display_data"
    }
   ],
   "source": [
    "avg_epoch = 15\n",
    "plt.plot(range(avg_epoch), loss_train_hist, 'k-', label=\"Train\",)\n",
    "plt.plot(range(avg_epoch), loss_valid_hist, 'y-', label=\"Validation\")\n",
    "\n",
    "plt.xlabel('Epoch')\n",
    "plt.ylabel('Loss')\n",
    "plt.grid(True)\n",
    "plt.legend()"
   ]
  },
  {
   "cell_type": "code",
   "execution_count": 16,
   "metadata": {
    "colab": {
     "base_uri": "https://localhost:8080/",
     "height": 296
    },
    "id": "hcLvzdOQmwqC",
    "outputId": "bfe7b541-59d7-4084-c061-1cf7c444ebd1"
   },
   "outputs": [
    {
     "data": {
      "text/plain": [
       "<matplotlib.legend.Legend at 0x1c52c7c8d60>"
      ]
     },
     "execution_count": 16,
     "metadata": {},
     "output_type": "execute_result"
    },
    {
     "data": {
      "image/png": "[encoded data removed]",
      "text/plain": [
       "<Figure size 640x480 with 1 Axes>"
      ]
     },
     "metadata": {},
     "output_type": "display_data"
    }
   ],
   "source": [
    "plt.plot(range(avg_epoch), acc_train_hist, 'k-', label='Train')\n",
    "plt.plot(range(avg_epoch), acc_valid_hist, 'm-', label='Validation',)\n",
    "plt.xlabel('Epoch')\n",
    "plt.ylabel('Accuracy')\n",
    "plt.grid(True)\n",
    "plt.legend()"
   ]
  },
  {
   "cell_type": "code",
   "execution_count": 17,
   "metadata": {
    "colab": {
     "base_uri": "https://localhost:8080/"
    },
    "id": "1MRhTSYZ0ney",
    "outputId": "877a2bbd-0b84-4df4-8320-671abc00729b"
   },
   "outputs": [
    {
     "ename": "ModuleNotFoundError",
     "evalue": "No module named 'google.colab'",
     "output_type": "error",
     "traceback": [
      "\u001b[1;31m---------------------------------------------------------------------------\u001b[0m",
      "\u001b[1;31mModuleNotFoundError\u001b[0m                       Traceback (most recent call last)",
      "Cell \u001b[1;32mIn[17], line 1\u001b[0m\n\u001b[1;32m----> 1\u001b[0m \u001b[38;5;28;01mfrom\u001b[39;00m \u001b[38;5;21;01mgoogle\u001b[39;00m\u001b[38;5;21;01m.\u001b[39;00m\u001b[38;5;21;01mcolab\u001b[39;00m \u001b[38;5;28;01mimport\u001b[39;00m drive\n\u001b[0;32m      2\u001b[0m drive\u001b[38;5;241m.\u001b[39mmount(\u001b[38;5;124m'\u001b[39m\u001b[38;5;124m/content/drive\u001b[39m\u001b[38;5;124m'\u001b[39m)\n",
      "\u001b[1;31mModuleNotFoundError\u001b[0m: No module named 'google.colab'"
     ]
    }
   ],
   "source": [
    "from google.colab import drive\n",
    "drive.mount('/content/drive')"
   ]
  },
  {
   "cell_type": "code",
   "execution_count": null,
   "metadata": {
    "id": "B7CIGFev1L6t"
   },
   "outputs": [],
   "source": [
    "torch.save(model, 'C:\\\\Users\\\\User\\\\Documents\\\\GitHub\\\\Models-Build\\\\ResNet34-ImageNet-batchsize128-opt=SGD+lr=0.001.pth')"
   ]
  }
 ],
 "metadata": {
  "accelerator": "GPU",
  "colab": {
   "collapsed_sections": [
    "hQLN7-oyEOUg"
   ],
   "gpuType": "T4",
   "provenance": []
  },
  "kernelspec": {
   "display_name": "Python 3",
   "name": "python3"
  },
  "language_info": {
   "codemirror_mode": {
    "name": "ipython",
    "version": 3
   },
   "file_extension": ".py",
   "mimetype": "text/x-python",
   "name": "python",
   "nbconvert_exporter": "python",
   "pygments_lexer": "ipython3",
   "version": "3.10.6"
  }
 },
 "nbformat": 4,
 "nbformat_minor": 0
}
